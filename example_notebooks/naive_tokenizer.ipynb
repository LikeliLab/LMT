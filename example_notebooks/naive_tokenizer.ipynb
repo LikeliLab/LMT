{
 "cells": [
  {
   "cell_type": "code",
   "execution_count": 1,
   "id": "f35d7445",
   "metadata": {},
   "outputs": [
    {
     "ename": "ImportError",
     "evalue": "cannot import name 'NaiveTokenizer' from 'lm.tokenizer' (/Users/michaelellis/Projects/LanguageModeling/lm/tokenizer/__init__.py)",
     "output_type": "error",
     "traceback": [
      "\u001b[31m---------------------------------------------------------------------------\u001b[39m",
      "\u001b[31mImportError\u001b[39m                               Traceback (most recent call last)",
      "\u001b[36mCell\u001b[39m\u001b[36m \u001b[39m\u001b[32mIn[1]\u001b[39m\u001b[32m, line 3\u001b[39m\n\u001b[32m      1\u001b[39m \u001b[38;5;28;01mimport\u001b[39;00m\u001b[38;5;250m \u001b[39m\u001b[34;01mre\u001b[39;00m\n\u001b[32m----> \u001b[39m\u001b[32m3\u001b[39m \u001b[38;5;28;01mfrom\u001b[39;00m\u001b[38;5;250m \u001b[39m\u001b[34;01mlm\u001b[39;00m\u001b[34;01m.\u001b[39;00m\u001b[34;01mtokenizer\u001b[39;00m\u001b[38;5;250m \u001b[39m\u001b[38;5;28;01mimport\u001b[39;00m NaiveTokenizer\n",
      "\u001b[31mImportError\u001b[39m: cannot import name 'NaiveTokenizer' from 'lm.tokenizer' (/Users/michaelellis/Projects/LanguageModeling/lm/tokenizer/__init__.py)"
     ]
    }
   ],
   "source": [
    "import re\n",
    "\n",
    "from lm.tokenizer import NaiveTokenizer"
   ]
  },
  {
   "cell_type": "code",
   "execution_count": 2,
   "id": "479d0325",
   "metadata": {},
   "outputs": [
    {
     "name": "stdout",
     "output_type": "stream",
     "text": [
      "Raw text length: 20479 characters\n",
      "Raw text sample: I HAD always thought Jack Gisburn rather a cheap genius--though a good fellow enough--so it was no g...\n"
     ]
    }
   ],
   "source": [
    "# read in text file\n",
    "with open('data/the-verdict.txt', encoding='utf-8') as f:\n",
    "    raw_text = f.read()\n",
    "\n",
    "print(f'Raw text length: {len(raw_text)} characters')\n",
    "print(f'Raw text sample: {raw_text[:100]}...')"
   ]
  },
  {
   "cell_type": "code",
   "execution_count": 4,
   "id": "033287c9",
   "metadata": {},
   "outputs": [
    {
     "name": "stdout",
     "output_type": "stream",
     "text": [
      "Vocabulary size: 1158\n",
      "Vocabulary sample: [('!', 0), ('\"', 1), ('\"Ah', 2), ('\"Be', 3), ('\"Begin', 4), ('\"By', 5), ('\"Come', 6), ('\"Destroyed', 7), ('\"Don', 8), ('\"Gisburns\"', 9)]\n"
     ]
    }
   ],
   "source": [
    "# construct vocab\n",
    "preprocessed = re.split(r'([,.:;?_!()\\']|--|\\s)', raw_text)\n",
    "preprocessed = [item.strip() for item in preprocessed if item.strip()]\n",
    "all_words = sorted(set(preprocessed))\n",
    "\n",
    "vocab = {word: i for i, word in enumerate(all_words)}\n",
    "print(f'Vocabulary size: {len(vocab)}')\n",
    "print(f'Vocabulary sample: {list(vocab.items())[:10]}')"
   ]
  },
  {
   "cell_type": "code",
   "execution_count": 5,
   "id": "15abea8e",
   "metadata": {},
   "outputs": [
    {
     "name": "stdout",
     "output_type": "stream",
     "text": [
      "Original text: The quick brown fox jumps over the lazy dog.\n",
      "Tokenized text: [126, 1158, 267, 1158, 1158, 771, 1015, 1158, 1158, 56]\n",
      "Decoded text: The <unk> brown <unk> <unk> over the <unk> <unk>.\n"
     ]
    }
   ],
   "source": [
    "# test naive tokenizer\n",
    "tokenizer = NaiveTokenizer(vocab)\n",
    "\n",
    "text = 'The quick brown fox jumps over the lazy dog.'\n",
    "tokenized_text = tokenizer.encode(text)\n",
    "decoded_text = tokenizer.decode(tokenized_text)\n",
    "\n",
    "print(f'Original text: {text}')\n",
    "print(f'Tokenized text: {tokenized_text}')\n",
    "print(f'Decoded text: {decoded_text}')"
   ]
  }
 ],
 "metadata": {
  "kernelspec": {
   "display_name": "lm-py3.13",
   "language": "python",
   "name": "python3"
  },
  "language_info": {
   "codemirror_mode": {
    "name": "ipython",
    "version": 3
   },
   "file_extension": ".py",
   "mimetype": "text/x-python",
   "name": "python",
   "nbconvert_exporter": "python",
   "pygments_lexer": "ipython3",
   "version": "3.13.3"
  }
 },
 "nbformat": 4,
 "nbformat_minor": 5
}
